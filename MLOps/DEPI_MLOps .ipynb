{
  "cells": [
    {
      "cell_type": "markdown",
      "source": [
        "The workflow for the project consists of the following key steps:\n",
        "- Data Loading: Load data from an SQL database using PyODBC.\n",
        "- Data Preprocessing: Clean and preprocess the dataset for model training.\n",
        "- Model Training: Train a Logistic Regression model using scikit-learn.\n",
        "- Model Evaluation: Calculate the model's accuracy.\n",
        "- MLOps Integration: Log metrics and model to MLflow, and register the model in Azure Machine Learning Studio.\n"
      ],
      "metadata": {
        "nteract": {
          "transient": {
            "deleting": false
          }
        }
      }
    },
    {
      "cell_type": "markdown",
      "source": [
        "### Step 1: Set up Workspace & Experiment"
      ],
      "metadata": {
        "nteract": {
          "transient": {
            "deleting": false
          }
        }
      }
    },
    {
      "cell_type": "markdown",
      "source": [
        "We begin by connecting to your Azure ML workspace, which acts as the environment for managing experiments, models, and data.\n"
      ],
      "metadata": {
        "nteract": {
          "transient": {
            "deleting": false
          }
        }
      }
    },
    {
      "cell_type": "code",
      "source": [
        "from azureml.core import Workspace, Experiment\n",
        "\n",
        "# Connect to your workspace\n",
        "ws = Workspace.from_config()\n",
        "\n",
        "# Create an experiment in the workspace\n",
        "experiment = Experiment(workspace=ws, name='customer-churn-prediction')\n"
      ],
      "outputs": [],
      "execution_count": 1,
      "metadata": {
        "jupyter": {
          "source_hidden": false,
          "outputs_hidden": false
        },
        "nteract": {
          "transient": {
            "deleting": false
          }
        },
        "gather": {
          "logged": 1729257465330
        }
      }
    },
    {
      "cell_type": "markdown",
      "source": [
        "### Step 2: Data Loading and Preprocessing"
      ],
      "metadata": {
        "nteract": {
          "transient": {
            "deleting": false
          }
        }
      }
    },
    {
      "cell_type": "markdown",
      "source": [
        "- The customer churn data is loaded from an SQL Server using the PyODBC library.\n",
        "- The data is cleaned by handling missing values and transforming the Customer_Status column to a binary target variable for churn prediction. Additionally, categorical columns are one-hot encoded."
      ],
      "metadata": {
        "nteract": {
          "transient": {
            "deleting": false
          }
        }
      }
    },
    {
      "cell_type": "code",
      "source": [
        "import pandas as pd\n",
        "import pyodbc\n",
        "\n",
        "# Connection details for SQL Server\n",
        "conn = pyodbc.connect('DRIVER={ODBC Driver 17 for SQL Server};SERVER=group1server.database.windows.net;DATABASE=DEPI_DB;UID=group1;PWD=cust@g100')\n",
        "\n",
        "# Load data into DataFrame\n",
        "query = \"SELECT * FROM [dbo].[telecom_customer_churn];\"\n",
        "df = pd.read_sql(query, conn)\n",
        "conn.close()\n",
        "\n",
        "# Data preprocessing\n",
        "df = df.dropna()\n",
        "df['Churn'] = df['Customer_Status'].apply(lambda x: 1 if x == 'Churned' else 0)\n",
        "\n",
        "# Include actual categorical columns\n",
        "categorical_columns = ['Gender', 'City', 'Offer', 'Phone_Service', 'Multiple_Lines', 'Internet_Service', 'Internet_Type', 'Online_Security', 'Online_Backup', 'Device_Protection_Plan', 'Premium_Tech_Support', 'Streaming_TV', 'Streaming_Movies', 'Streaming_Music', 'Unlimited_Data', 'Contract', 'Paperless_Billing', 'Payment_Method', 'Churn_Category', 'Churn_Reason']\n",
        "\n",
        "# One-hot encode categorical columns\n",
        "df = pd.get_dummies(df, columns=categorical_columns, drop_first=True)\n",
        "df = df.drop(columns=['Customer_ID', 'Customer_Status'])\n"
      ],
      "outputs": [],
      "execution_count": 2,
      "metadata": {
        "jupyter": {
          "source_hidden": false,
          "outputs_hidden": false
        },
        "nteract": {
          "transient": {
            "deleting": false
          }
        },
        "gather": {
          "logged": 1729257467102
        }
      }
    },
    {
      "cell_type": "markdown",
      "source": [
        "### Step 3: Model Training"
      ],
      "metadata": {
        "nteract": {
          "transient": {
            "deleting": false
          }
        }
      }
    },
    {
      "cell_type": "markdown",
      "source": [
        "A Logistic Regression model is trained using the processed dataset. The dataset is split into training and testing sets, and the model is fitted to the training data.\n"
      ],
      "metadata": {
        "nteract": {
          "transient": {
            "deleting": false
          }
        }
      }
    },
    {
      "cell_type": "code",
      "source": [
        "from sklearn.model_selection import train_test_split\n",
        "from sklearn.linear_model import LogisticRegression\n",
        "from sklearn.metrics import accuracy_score\n",
        "\n",
        "X = df.drop(columns=['Churn'])\n",
        "y = df['Churn']\n",
        "\n",
        "X_train, X_test, y_train, y_test = train_test_split(X, y, test_size=0.3, random_state=42)\n",
        "\n",
        "model = LogisticRegression(max_iter=1000)\n",
        "model.fit(X_train, y_train)\n",
        "\n",
        "y_pred = model.predict(X_test)\n",
        "accuracy = accuracy_score(y_test, y_pred)\n",
        "print(f\"Model Accuracy: {accuracy}\")\n"
      ],
      "outputs": [
        {
          "output_type": "stream",
          "name": "stdout",
          "text": "Model Accuracy: 1.0\n"
        }
      ],
      "execution_count": 3,
      "metadata": {
        "jupyter": {
          "source_hidden": false,
          "outputs_hidden": false
        },
        "nteract": {
          "transient": {
            "deleting": false
          }
        },
        "gather": {
          "logged": 1729257467692
        }
      }
    },
    {
      "cell_type": "markdown",
      "source": [
        "### Step 4: Track with MLflow\n"
      ],
      "metadata": {
        "nteract": {
          "transient": {
            "deleting": false
          }
        }
      }
    },
    {
      "cell_type": "markdown",
      "source": [
        "MLflow is used to log model metrics and the trained logistic regression model. The model is also signed with its input and output signatures."
      ],
      "metadata": {
        "nteract": {
          "transient": {
            "deleting": false
          }
        }
      }
    },
    {
      "cell_type": "code",
      "source": [
        "import mlflow\n",
        "import mlflow.sklearn\n",
        "from mlflow.models.signature import infer_signature\n",
        "\n",
        "mlflow.start_run()\n",
        "mlflow.log_metric(\"accuracy\", accuracy)\n",
        "signature = infer_signature(X_train, model.predict(X_train))\n",
        "mlflow.sklearn.log_model(model, \"logistic_regression_model\", signature=signature, input_example=X_train[:5])\n",
        "mlflow.end_run()\n"
      ],
      "outputs": [
        {
          "output_type": "stream",
          "name": "stderr",
          "text": "/anaconda/envs/azureml_py38/lib/python3.10/site-packages/mlflow/types/utils.py:407: UserWarning: Hint: Inferred schema contains integer column(s). Integer columns in Python cannot represent missing values. If your input data contains missing values at inference time, it will be encoded as floats and will cause a schema enforcement error. The best way to avoid this problem is to infer the model schema based on a realistic data sample (training dataset) that includes missing values. Alternatively, you can declare integer columns as doubles (float64) whenever these columns may have missing values. See `Handling Integers With Missing Values <https://www.mlflow.org/docs/latest/models.html#handling-integers-with-missing-values>`_ for more details.\n  warnings.warn(\n"
        },
        {
          "output_type": "display_data",
          "data": {
            "text/plain": "Downloading artifacts:   0%|          | 0/7 [00:00<?, ?it/s]",
            "application/vnd.jupyter.widget-view+json": {
              "version_major": 2,
              "version_minor": 0,
              "model_id": "f5fc6e7b7c1f4edba7b94b5ba599b628"
            }
          },
          "metadata": {}
        },
        {
          "output_type": "stream",
          "name": "stderr",
          "text": "2024/10/18 13:17:59 INFO mlflow.tracking._tracking_service.client: 🏃 View run bright_octopus_v3kdt0vv at: https://eastus2.api.azureml.ms/mlflow/v2.0/subscriptions/2d57ab39-534b-4ea0-9f64-e8d1c37adc8c/resourceGroups/mm30207021600537-rg/providers/Microsoft.MachineLearningServices/workspaces/group1/#/experiments/94b469b1-b31a-48bf-a59a-f710d728eba3/runs/9f68fda6-3fac-4a40-8166-a8230ccca80d.\n2024/10/18 13:17:59 INFO mlflow.tracking._tracking_service.client: 🧪 View experiment at: https://eastus2.api.azureml.ms/mlflow/v2.0/subscriptions/2d57ab39-534b-4ea0-9f64-e8d1c37adc8c/resourceGroups/mm30207021600537-rg/providers/Microsoft.MachineLearningServices/workspaces/group1/#/experiments/94b469b1-b31a-48bf-a59a-f710d728eba3.\n"
        }
      ],
      "execution_count": 4,
      "metadata": {
        "jupyter": {
          "source_hidden": false,
          "outputs_hidden": false
        },
        "nteract": {
          "transient": {
            "deleting": false
          }
        },
        "gather": {
          "logged": 1729257480160
        }
      }
    },
    {
      "cell_type": "markdown",
      "source": [
        "### Step 5: Register Model in Azure ML\n"
      ],
      "metadata": {
        "nteract": {
          "transient": {
            "deleting": false
          }
        }
      }
    },
    {
      "cell_type": "markdown",
      "source": [
        "Once the model is trained and logged, it is saved and registered in Azure Machine Learning Studio. This ensures version control and easy deployment in production.\n"
      ],
      "metadata": {
        "nteract": {
          "transient": {
            "deleting": false
          }
        }
      }
    },
    {
      "cell_type": "code",
      "source": [
        "from azureml.core import Workspace, Model\n",
        "import joblib\n",
        "\n",
        "# Connect to your workspace\n",
        "ws = Workspace.from_config()\n",
        "\n",
        "# Save the model\n",
        "joblib.dump(model, 'logistic_regression_model.pkl')\n",
        "\n",
        "# Register the model\n",
        "model = Model.register(\n",
        "    workspace=ws, \n",
        "    model_name=\"customer_churn_model\", \n",
        "    model_path=\"logistic_regression_model.pkl\",\n",
        "    description=\"Logistic Regression model for customer churn prediction\"\n",
        ")\n"
      ],
      "outputs": [
        {
          "output_type": "stream",
          "name": "stdout",
          "text": "Registering model customer_churn_model\n"
        }
      ],
      "execution_count": 5,
      "metadata": {
        "jupyter": {
          "source_hidden": false,
          "outputs_hidden": false
        },
        "nteract": {
          "transient": {
            "deleting": false
          }
        },
        "gather": {
          "logged": 1729257481887
        }
      }
    }
  ],
  "metadata": {
    "kernelspec": {
      "name": "python38-azureml",
      "language": "python",
      "display_name": "Python 3.8 - AzureML"
    },
    "language_info": {
      "name": "python",
      "version": "3.10.11",
      "mimetype": "text/x-python",
      "codemirror_mode": {
        "name": "ipython",
        "version": 3
      },
      "pygments_lexer": "ipython3",
      "nbconvert_exporter": "python",
      "file_extension": ".py"
    },
    "microsoft": {
      "ms_spell_check": {
        "ms_spell_check_language": "en"
      },
      "host": {
        "AzureML": {
          "notebookHasBeenCompleted": true
        }
      }
    },
    "nteract": {
      "version": "nteract-front-end@1.0.0"
    },
    "kernel_info": {
      "name": "python38-azureml"
    }
  },
  "nbformat": 4,
  "nbformat_minor": 2
}